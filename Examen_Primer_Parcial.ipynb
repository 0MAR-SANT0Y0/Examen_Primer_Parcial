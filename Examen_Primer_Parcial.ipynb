{
  "nbformat": 4,
  "nbformat_minor": 0,
  "metadata": {
    "colab": {
      "name": "Examen_Primer_Parcial.ipynb",
      "provenance": [],
      "collapsed_sections": []
    },
    "kernelspec": {
      "name": "python3",
      "display_name": "Python 3"
    }
  },
  "cells": [
    {
      "cell_type": "markdown",
      "metadata": {
        "id": "iCwmCeKWdJJO"
      },
      "source": [
        "Examen Primer Parcial: Omar Santoyo Camargo; 2SV1, Metodos Numericos."
      ]
    },
    {
      "cell_type": "markdown",
      "metadata": {
        "id": "sHQZRq3IdU_n"
      },
      "source": [
        "Problema #1; Escribir un programa que calcule las raíces de,\n",
        "ax2 + bx + c = 0 (1).\n",
        "Esto lo puede hacer con la ecuación general de segundo orden,\n",
        "x1,2 =\n",
        "−b ±\n",
        "√\n",
        "b\n",
        "2 − 4ac/\n",
        "2a.\n",
        "(2),\n",
        "Si el discriminante (b\n",
        "2 − 4ac) es negativo, entonces debe de imprimir\n",
        "Error, el discriminante tiene que se positivo\n",
        "y debe de volver a leer los valores de los coeficientes a, b y c, esto se debe de ciclar hasta que\n",
        "el discriminante sea positivo.\n",
        "\n"
      ]
    },
    {
      "cell_type": "code",
      "metadata": {
        "id": "EHWHKizceXwi"
      },
      "source": [
        "print(\"Este programa calcula las raices de x mediante la formula general.\")\n",
        "from math import sqrt\n",
        "A= int(input(\"De el valor de A: \"))\n",
        "B= int(input(\"De el valor de B: \"))\n",
        "C= int(input(\"De el valor de C: \"))\n",
        " \n",
        "while ((B**2)-4*(A*C))<0:\n",
        "  print(\"ERROR, el discriminante tiene que ser positivo.\")\n",
        "  A= int(input(\"De el valor de A: \"))\n",
        "  B= int(input(\"De el valor de B: \"))\n",
        "  c= int(input(\"De el valor de C: \"))\n",
        " \n",
        "x1= (-B+sqrt(B**2-(4*(A*C))))/(2*A)\n",
        "x2= (-B-sqrt(B**2-(4*(A*C))))/(2*A)\n",
        "print(\"El valor de las raices de x son igual a: \")\n",
        "print(\"El Valor de x1 es: \", x1)\n",
        "print(\"El valor de x2 es: \", x2)\n",
        "print(\"Fin del programa.\")"
      ],
      "execution_count": null,
      "outputs": []
    },
    {
      "cell_type": "markdown",
      "metadata": {
        "id": "2BcobfMKhUsm"
      },
      "source": [
        "Programa #2; Sea la función:\n",
        "f(x) = e^\n",
        "−x,\n",
        "(3).\n",
        "Realizar un función que acepte como argumento el valor de x, que calcule el valor de f(x) y\n",
        "que lo regrese a la función principal.\n",
        "En el programa principal, debe de hacer un bucle que ayude a evaluar la función con valores,\n",
        "desde -4 hasta 10 y que pare el bucle cuando el valor e f(x) sea menor que 0.0025,\n",
        "Guardar en una lista el valor de las iteraciones conforme van pasando.\n",
        "Pistas: Debes de utilizar el bucle while con un contador que comienza en -4 y debe de ir\n",
        "sumando en uno.\n",
        "La lista vacía se declara con miLista=[] y cada que quieras agregar algún elemento te conviene utilizar .append(valor). puedes declarar e = 2.7182818284 como una variable y después hacer la matemática correspondiente."
      ]
    },
    {
      "cell_type": "code",
      "metadata": {
        "id": "pZSK2u9_h78R"
      },
      "source": [
        "print(\"Este programa Calcula la funcion f(x) = e^−x desde -4 hasta 10. \")\n",
        "e= 2.718281828\n",
        "x= -4\n",
        "while x<10:\n",
        "  f= e**-x\n",
        "  A= [x,f]\n",
        "  print(A)\n",
        "  x +=1\n",
        "  if f<0.0025:\n",
        "    break\n",
        "print(\"El valor de f es mayor a 0.0025\")"
      ],
      "execution_count": null,
      "outputs": []
    }
  ]
}